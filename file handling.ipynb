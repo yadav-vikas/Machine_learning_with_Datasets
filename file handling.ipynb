{
 "cells": [
  {
   "cell_type": "code",
   "execution_count": 4,
   "metadata": {},
   "outputs": [
    {
     "ename": "SyntaxError",
     "evalue": "invalid syntax (<ipython-input-4-cc64f5ee4655>, line 5)",
     "output_type": "error",
     "traceback": [
      "\u001b[1;36m  File \u001b[1;32m\"<ipython-input-4-cc64f5ee4655>\"\u001b[1;36m, line \u001b[1;32m5\u001b[0m\n\u001b[1;33m    1\tr\tIt opens the file to read-only. The file pointer exists at the beginning. The file is by default open in this mode if no access mode is passed.\u001b[0m\n\u001b[1;37m     \t^\u001b[0m\n\u001b[1;31mSyntaxError\u001b[0m\u001b[1;31m:\u001b[0m invalid syntax\n"
     ]
    }
   ],
   "source": [
    "# File handling in pyhton\n",
    "\n",
    "#Python provides the open() function which accepts two arguments, file name and access mode in which the file is accessed.\n",
    "#SN\tAccess mode\tDescription\n",
    "1\tr\tIt opens the file to read-only. The file pointer exists at the beginning. The file is by default open in this mode if no access mode is passed.\n",
    "2\trb\tIt opens the file to read only in binary format. The file pointer exists at the beginning of the file.\n",
    "3\tr+\tIt opens the file to read and write both. The file pointer exists at the beginning of the file.\n",
    "4\trb+\tIt opens the file to read and write both in binary format. The file pointer exists at the beginning of the file.\n",
    "5\tw\tIt opens the file to write only. It overwrites the file if previously exists or creates a new one if no file exists with the same name. The file pointer exists at the beginning of the file.\n",
    "6\twb\tIt opens the file to write only in binary format. It overwrites the file if it exists previously or creates a new one if no file exists with the same name. The file pointer exists at the beginning of the file.\n",
    "7\tw+\tIt opens the file to write and read both. It is different from r+ in the sense that it overwrites the previous file if one exists whereas r+ doesn't overwrite the previously written file. It creates a new file if no file exists. The file pointer exists at the beginning of the file.\n",
    "8\twb+\tIt opens the file to write and read both in binary format. The file pointer exists at the beginning of the file.\n",
    "9\ta\tIt opens the file in the append mode. The file pointer exists at the end of the previously written file if exists any. It creates a new file if no file exists with the same name.\n",
    "10\tab\tIt opens the file in the append mode in binary format. The pointer exists at the end of the previously written file. It creates a new file in binary format if no file exists with the same name.\n",
    "11\ta+\tIt opens a file to append and read both. The file pointer remains at the end of the file if a file exists. It creates a new file if no file exists with the same name.\n",
    "12\tab+\tIt opens a file to append and read both in binary format. The file pointer remains at the end of the file.\n",
    "\n",
    "#example\n",
    "#opens the file file.txt in read mode  \n",
    "fileptr = open(\"file.txt\",\"r+\")  \n",
    "  \n",
    "if fileptr:  \n",
    "    print(\"file is opened successfully\")\n",
    "    \n",
    "# to close the opened file\n",
    "#closes the opened file  \n",
    "fileptr.close() "
   ]
  },
  {
   "cell_type": "code",
   "execution_count": 5,
   "metadata": {},
   "outputs": [],
   "source": [
    "#open the file.txt in append mode. Creates a new file if no such file exists.  \n",
    "fileptr = open(\"file.txt\",\"a\");   \n",
    "  \n",
    "#appending the content to the file  \n",
    "fileptr.write(\"Python is the modern day language. It makes things so simple.\")  \n",
    "  \n",
    "  \n",
    "#closing the opened file   \n",
    "fileptr.close();  "
   ]
  },
  {
   "cell_type": "code",
   "execution_count": null,
   "metadata": {},
   "outputs": [],
   "source": []
  }
 ],
 "metadata": {
  "kernelspec": {
   "display_name": "Python 3",
   "language": "python",
   "name": "python3"
  },
  "language_info": {
   "codemirror_mode": {
    "name": "ipython",
    "version": 3
   },
   "file_extension": ".py",
   "mimetype": "text/x-python",
   "name": "python",
   "nbconvert_exporter": "python",
   "pygments_lexer": "ipython3",
   "version": "3.7.3"
  }
 },
 "nbformat": 4,
 "nbformat_minor": 2
}
